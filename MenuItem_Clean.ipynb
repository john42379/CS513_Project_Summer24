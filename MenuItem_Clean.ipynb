{
 "cells": [
  {
   "cell_type": "code",
   "execution_count": 1,
   "metadata": {},
   "outputs": [],
   "source": [
    "#IMPORT MODULES\n",
    "import pandas as pd\n",
    "import numpy as np\n",
    "import openpyxl\n"
   ]
  },
  {
   "cell_type": "code",
   "execution_count": 2,
   "metadata": {},
   "outputs": [
    {
     "name": "stdout",
     "output_type": "stream",
     "text": [
      "<class 'pandas.core.frame.DataFrame'>\n",
      "RangeIndex: 1332726 entries, 0 to 1332725\n",
      "Data columns (total 9 columns):\n",
      " #   Column        Non-Null Count    Dtype  \n",
      "---  ------        --------------    -----  \n",
      " 0   id            1332726 non-null  int64  \n",
      " 1   menu_page_id  1332726 non-null  int64  \n",
      " 2   price         886810 non-null   float64\n",
      " 3   high_price    91905 non-null    float64\n",
      " 4   dish_id       1332485 non-null  float64\n",
      " 5   created_at    1332726 non-null  object \n",
      " 6   updated_at    1332726 non-null  object \n",
      " 7   xpos          1332726 non-null  float64\n",
      " 8   ypos          1332726 non-null  float64\n",
      "dtypes: float64(5), int64(2), object(2)\n",
      "memory usage: 91.5+ MB\n"
     ]
    }
   ],
   "source": [
    "#IMPORT THE DATA\n",
    "data = pd.read_csv('MenuItem.csv')\n",
    "#DISPLAY INFO\n",
    "data.info()"
   ]
  },
  {
   "cell_type": "code",
   "execution_count": 3,
   "metadata": {},
   "outputs": [
    {
     "name": "stdout",
     "output_type": "stream",
     "text": [
      "Length of subdata sets equal to length of data: 0\n"
     ]
    }
   ],
   "source": [
    "#DATA FOR EXECL EXPLORATION:\n",
    "subdata1 = data.loc[0:599999,:]\n",
    "subdata2 = data.loc[600000:,:]\n",
    "ld = len(data)\n",
    "s1d = len(subdata1)\n",
    "s2d = len(subdata2)\n",
    "print(f\"Length of subdata sets equal to length of data: {ld-(s1d+s2d)}\") # Check completeness \n",
    "#Send to Excel\n",
    "with pd.ExcelWriter('dataClean_MenuItem.xlsx', engine='openpyxl') as writer:\n",
    "    subdata1.to_excel(writer, sheet_name='s1d', index=False)\n",
    "    subdata2.to_excel(writer, sheet_name='s2d', index=False)\n",
    "\n"
   ]
  },
  {
   "cell_type": "code",
   "execution_count": 24,
   "metadata": {},
   "outputs": [],
   "source": [
    "\n",
    "data['price_clean'] = data['price'].fillna(0) #use 0 for Null values\n",
    "data['high_price_clean'] = data['high_price'].fillna(0) #use 0 for Null values\n",
    "data['dish_id_clean'] = (data['dish_id'].fillna(0)).astype(int) #use 0 for Null values and convert to int\n",
    "data['created_at_clean'] = pd.to_datetime(data['created_at'], utc=True) #convert to datetime\n",
    "data['updated_at_clean'] = pd.to_datetime(data['updated_at'], utc=True) #convert to datetime\n"
   ]
  },
  {
   "cell_type": "code",
   "execution_count": 26,
   "metadata": {},
   "outputs": [
    {
     "name": "stdout",
     "output_type": "stream",
     "text": [
      "<class 'pandas.core.frame.DataFrame'>\n",
      "RangeIndex: 1332726 entries, 0 to 1332725\n",
      "Data columns (total 14 columns):\n",
      " #   Column            Non-Null Count    Dtype              \n",
      "---  ------            --------------    -----              \n",
      " 0   id                1332726 non-null  int64              \n",
      " 1   menu_page_id      1332726 non-null  int64              \n",
      " 2   price             886810 non-null   float64            \n",
      " 3   high_price        91905 non-null    float64            \n",
      " 4   dish_id           1332485 non-null  float64            \n",
      " 5   created_at        1332726 non-null  object             \n",
      " 6   updated_at        1332726 non-null  object             \n",
      " 7   xpos              1332726 non-null  float64            \n",
      " 8   ypos              1332726 non-null  float64            \n",
      " 9   price_clean       1332726 non-null  float64            \n",
      " 10  high_price_clean  1332726 non-null  float64            \n",
      " 11  created_at_clean  1332726 non-null  datetime64[ns, UTC]\n",
      " 12  updated_at_clean  1332726 non-null  datetime64[ns, UTC]\n",
      " 13  dish_id_clean     1332726 non-null  int32              \n",
      "dtypes: datetime64[ns, UTC](2), float64(7), int32(1), int64(2), object(2)\n",
      "memory usage: 137.3+ MB\n"
     ]
    }
   ],
   "source": [
    "data.info()"
   ]
  },
  {
   "cell_type": "code",
   "execution_count": 27,
   "metadata": {},
   "outputs": [],
   "source": [
    "#SAVE CLEAN DATA TO CSV\n",
    "# Save the DataFrame to a CSV file\n",
    "data.to_csv('MenuItem_cleaned.csv', index=False)"
   ]
  }
 ],
 "metadata": {
  "kernelspec": {
   "display_name": "Python 3",
   "language": "python",
   "name": "python3"
  },
  "language_info": {
   "codemirror_mode": {
    "name": "ipython",
    "version": 3
   },
   "file_extension": ".py",
   "mimetype": "text/x-python",
   "name": "python",
   "nbconvert_exporter": "python",
   "pygments_lexer": "ipython3",
   "version": "3.11.9"
  }
 },
 "nbformat": 4,
 "nbformat_minor": 2
}
